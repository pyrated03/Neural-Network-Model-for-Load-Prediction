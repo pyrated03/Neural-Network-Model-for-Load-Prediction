{
  "nbformat": 4,
  "nbformat_minor": 0,
  "metadata": {
    "colab": {
      "name": "MS4610_Project_Neural_Network.ipynb",
      "provenance": [],
      "collapsed_sections": []
    },
    "kernelspec": {
      "name": "python3",
      "display_name": "Python 3"
    }
  },
  "cells": [
    {
      "cell_type": "markdown",
      "metadata": {
        "id": "jFI9oPwRqheX"
      },
      "source": [
        "#**PART 1: DATA IMPUTATION**"
      ]
    },
    {
      "cell_type": "code",
      "metadata": {
        "id": "KUP6_cDvrBOe"
      },
      "source": [
        "import pandas\r\n",
        "import numpy as np\r\n",
        "from sklearn.preprocessing import StandardScaler"
      ],
      "execution_count": 18,
      "outputs": []
    },
    {
      "cell_type": "markdown",
      "metadata": {
        "id": "zj-r548Cqwe3"
      },
      "source": [
        "###CHANGING THE CATEGORICAL VARIABLES TO 0 AND 1\r\n",
        "\r\n",
        "> In the below code, the 2 categorical variable(Loan Type and Occupation) are encoded into separate columns. The basic strategy is to convert each category value into a new column and assigns a 1 or 0 (True/False) value to the column.\r\n",
        "\r\n",
        "\r\n"
      ]
    },
    {
      "cell_type": "code",
      "metadata": {
        "id": "0sn6eskVrGeP"
      },
      "source": [
        "trainx = pandas.read_csv(\"drive/My Drive/MS4610 Data/train_x.csv\")\r\n",
        "df = pandas.DataFrame(trainx)\r\n",
        "df.insert(4,\"B\",np.nan)            #Inserting a separate column for Loan Type='B', all cells filled NaN by default\r\n",
        "df.insert(6,\"Y\",np.nan)            #Inserting a separate column for Occupation='Y', all cells filled NaN by default\r\n",
        "df.insert(7,\"Z\",np.nan)            #Inserting a separate column for Occupation='Z', all cells filled NaN by default\r\n",
        "\r\n",
        "\r\n",
        "trainx = np.array(df)\r\n",
        "\r\n",
        "#Assigning each column with 1 or 0, based on the category in each data point\r\n",
        "\r\n",
        "l = len((trainx))\r\n",
        "for i in range(l):\r\n",
        "    if trainx[i][3] == 'A':\r\n",
        "        trainx[i][3] = 1.0\r\n",
        "        trainx[i][4] = 0.0        \r\n",
        "    elif trainx[i][3] == 'B':\r\n",
        "        trainx[i][3] = 0.0\r\n",
        "        trainx[i][4] = 1.0\r\n",
        "    \r\n",
        "    if trainx[i][5] == 'X':\r\n",
        "        trainx[i][5] = 1.0\r\n",
        "        trainx[i][6] = 0.0       \r\n",
        "        trainx[i][7] = 0.0\r\n",
        "    elif trainx[i][5] == 'Y':\r\n",
        "        trainx[i][5] = 0.0\r\n",
        "        trainx[i][6] = 1.0        \r\n",
        "        trainx[i][7] = 0.0\r\n",
        "    elif trainx[i][5] == 'Z':\r\n",
        "        trainx[i][5] = 0.0\r\n",
        "        trainx[i][6] = 0.0       \r\n",
        "        trainx[i][7] = 1.0"
      ],
      "execution_count": 85,
      "outputs": []
    },
    {
      "cell_type": "markdown",
      "metadata": {
        "id": "j1E-0fIKrf1f"
      },
      "source": [
        "###BRINGING ALL THE DATA IN THE SAME SCALE\r\n",
        "\r\n",
        "\r\n",
        "> In the below cell, a library function, StandardScaler() has been used. StandardScaler standardizes a feature by subtracting the mean and then scaling to unit variance. Unit variance means dividing all the values by the standard deviation.\r\n",
        "\r\n"
      ]
    },
    {
      "cell_type": "code",
      "metadata": {
        "id": "PRZkRXqorfNd"
      },
      "source": [
        "sc = StandardScaler()\r\n",
        "trainx = sc.fit_transform(trainx)"
      ],
      "execution_count": 86,
      "outputs": []
    },
    {
      "cell_type": "markdown",
      "metadata": {
        "id": "ynw3Qtzjr5OF"
      },
      "source": [
        "### DATA IMPUTATION \r\n",
        "\r\n",
        "\r\n",
        "> The below code uses a library function in sklearn, KNNImputer() to impute the values in train_x matrix. We had encoded the Categorical Variables in one of the previous cells. Then we run the library function, KNNImputer() to impute the values in the empty cells of the feature matrix(train_x). After filling the values in train_x matrix(finally getting the matrix, trainx_imputed), we read the labels from train_y vector, and append it to trainx_imputed as 2 columns, using the same logic used while encoding the Categorical variables(convert each category value into a new column and assigns a 1 or 0). After that, we again run the KNN Algorithm to impute and fill up the missing labels."
      ]
    },
    {
      "cell_type": "code",
      "metadata": {
        "id": "QmJCJ512Vigl"
      },
      "source": [
        "import numpy as np\r\n",
        "from sklearn.impute import KNNImputer\r\n",
        "\r\n",
        "'''In the training set given, the 1st column is the ID(1-80000), which is not a feature. \r\n",
        "So the below line of code takes all columns except the 1st one, and creates and assigns it to the variable, 'x'.'''\r\n",
        "x = trainx[:,1:]\r\n",
        "\r\n",
        "imputer = KNNImputer(n_neighbors=10, weights=\"uniform\")  # Defining the imputer\r\n",
        "trainx_imputed = imputer.fit_transform(x)  # fitting the imputer on and transforming  the dataset\r\n",
        "\r\n",
        "trainx_imputed1 = trainx_imputed\r\n",
        "# Load the label data(train_y vector)\r\n",
        "trainy1 = pandas.read_csv(\"drive/My Drive/MS4610 Data/train_y.csv\")\r\n",
        "# Converting the read data into a 2-D Array\r\n",
        "trainy1 = np.array(trainy1)\r\n",
        "\r\n",
        "'''Appending the label-vector(train_y) to trainx_imputed as 2 columns, using the same logic used while \r\n",
        "encoding the Categorical variables(convert each category value into a new column and assigns a 1 or 0).'''\r\n",
        "\r\n",
        "df1 = pandas.DataFrame(trainx_imputed1)     #Creating a Dataframe of trainx_imputed1\r\n",
        "df1.insert(13,\"Not Default\",np.nan)         #Inserting a separate column for Label='Not Default', all cells filled NaN by default\r\n",
        "df1.insert(14,\"Default\",np.nan)             #Inserting a separate column for Label='Default', all cells filled NaN by default\r\n",
        "#Converting the dataframe back into a 2-D Array\r\n",
        "trainx_imputed1 = np.array(df1)      \r\n",
        "\r\n",
        "#Assigning each of these 2 colums with 1 or 0, based on the label\r\n",
        "\r\n",
        "for i in range(l):\r\n",
        "    if trainy1[i][1] == 0.0:\r\n",
        "        trainx_imputed1[i][13] = 1.0\r\n",
        "        trainx_imputed1[i][14] = 0.0\r\n",
        "    elif trainy1[i][1] == 1.0:\r\n",
        "        trainx_imputed1[i][13] = 0.0\r\n",
        "        trainx_imputed1[i][14] = 1.0 \r\n",
        "\r\n",
        "imputer1 = KNNImputer(n_neighbors=10, weights=\"uniform\")                # Defining the imputer again\r\n",
        "trainx_imputed_final = imputer1.fit_transform(trainx_imputed1)          # fitting the imputer on and transforming  the dataset to get the final fully imputed matrix\r\n",
        "\r\n",
        "trainx_imputed_final[:,13] = (trainx_imputed_final[:,13] > 0.5)\r\n",
        "trainx_imputed_final[:,14] = (trainx_imputed_final[:,14] > 0.5)"
      ],
      "execution_count": 87,
      "outputs": []
    },
    {
      "cell_type": "markdown",
      "metadata": {
        "id": "JlN8wTScvLwK"
      },
      "source": [
        "##DATA SPLITTING\r\n",
        "\r\n",
        "> In the below cell, we are splitting the trainx_imputed_final(which has the data from both train_x and train_y matrices), into the final feature matrix(trainx_final) and the label matrix(trainy_final) and saving it.\r\n",
        "\r\n",
        "\r\n"
      ]
    },
    {
      "cell_type": "code",
      "metadata": {
        "id": "hE3vVjmQX6uA"
      },
      "source": [
        "'''The first 13 columns of trainx_imputed_final are the feature columns, while the last 2 columns are the labels. \r\n",
        "So, here we first take the first 13 columns, and assign it to trainx_final'''\r\n",
        "trainx_final = trainx_imputed_final[:,0:13]    \r\n",
        "# The below line is a dummy assignment to define trainy_final so that the size(number of rows) match with that in trainx_imputed_final\r\n",
        "trainy_final = trainx_imputed_final[:,13]\r\n",
        "\r\n",
        "'''After the dummy assignment, we loop through the values in the last 2 columns. As per the data given, we are assigning 0 for 'Not Default',\r\n",
        " while 1 for 'Default'. So, if the value in the 14th column is 1(i.e. the loan is Not Default), we assign 0 to that row in trainy_final. \r\n",
        " If the value in the 14th column is 0, it directly implies the value in 15th column is 1, and we assign 1 to that row in trainy_final.'''\r\n",
        "\r\n",
        "for i in range(l):\r\n",
        "    if trainx_imputed_final[i,13] == 1:\r\n",
        "        trainy_final[i] = 0.0\r\n",
        "    else:\r\n",
        "        trainy_final[i] = 1.0\r\n",
        "\r\n",
        "# Saving the final feature matrix and label matrix\r\n",
        "np.savetxt(\"drive/My Drive/MS4610 Data/TRAINX_FINAL.csv\", trainx_final, delimiter=\",\")\r\n",
        "np.savetxt(\"drive/My Drive/MS4610 Data/TRAINY_FINAL.csv\", trainy_final, delimiter=\",\")\r\n",
        "\r\n"
      ],
      "execution_count": 88,
      "outputs": []
    },
    {
      "cell_type": "markdown",
      "metadata": {
        "id": "5AuIlN8SlvYM"
      },
      "source": [
        "##DATA PREPROCESSING FOR TEST DATA\r\n",
        "(TO BE PERFORMED ONLY FOR TEST DATA)\r\n",
        "\r\n",
        "We are training the model using a training dataset in which we had encoded the categorical variables into columns, and normalized the data using StandardScaler(). So, when using a new test feature matrix, the labels of which we want to predict, we have to first preprocess it(i.e., encode the categorical variables into columns and normalize the data using StandardScaler() )\r\n",
        "\r\n",
        "##### HENCE, FOR ANY TEST DATA THAT DOES NOT NEED IMPUTATION, IT HAS TO BE PREPROCESSED THROUGH THE BELOW FUNCTION, AND THEN BE FED TO THE MODEL. IF THE TEST DATA HAS BEEN RUN THROUGH THE DATA IMPUTATION(SINCE IT HAS MISSING DATA), IT HAS ALREADY BEEN PROCESSED AND IT SHOULD NOT BE RUN AGAIN THROUGH THE BELOW FUNCTION. IT CAN DIRECTLY BE USED IN THE MODEL FOR PREDICTION.\r\n"
      ]
    },
    {
      "cell_type": "code",
      "metadata": {
        "id": "NOVatUgcltj2"
      },
      "source": [
        "def preprocessor(data):\r\n",
        "    df = pandas.DataFrame(data)\r\n",
        "    df.insert(4,\"B\",np.nan)            #Inserting a separate column for Loan Type='B'\r\n",
        "    df.insert(6,\"Y\",np.nan)            #Inserting a separate column for Occupation='Y'\r\n",
        "    df.insert(7,\"Z\",np.nan)            #Inserting a separate column for Occupation='Z'\r\n",
        "\r\n",
        "\r\n",
        "    data = np.array(df)\r\n",
        "\r\n",
        "    #Assigning each column with 1 or 0, based on the category in each data point\r\n",
        "\r\n",
        "    l = len((data))\r\n",
        "    for i in range(l):\r\n",
        "        if data[i][3] == 'A':\r\n",
        "            data[i][3] = 1.0\r\n",
        "            data[i][4] = 0.0        \r\n",
        "        elif data[i][3] == 'B':\r\n",
        "            data[i][3] = 0.0\r\n",
        "            data[i][4] = 1.0\r\n",
        "        \r\n",
        "        if data[i][5] == 'X':\r\n",
        "            data[i][5] = 1.0\r\n",
        "            data[i][6] = 0.0       \r\n",
        "            data[i][7] = 0.0\r\n",
        "        elif data[i][5] == 'Y':\r\n",
        "            data[i][5] = 0.0\r\n",
        "            data[i][6] = 1.0        \r\n",
        "            data[i][7] = 0.0\r\n",
        "        elif data[i][5] == 'Z':\r\n",
        "            data[i][5] = 0.0\r\n",
        "            data[i][6] = 0.0       \r\n",
        "            data[i][7] = 1.0\r\n",
        "\r\n",
        "'''In the dataset, the 1st column is the ID, which is not a feature. \r\n",
        "So the below line of code takes all columns except the 1st one, and creates and assigns it back to the variable 'data'.'''\r\n",
        "    data = data[:,1:]    \r\n",
        "\r\n",
        "'''The 2 lines of code is used to bring all the data in the same scale so that the model works well.StandardScaler standardizes a feature by subtracting \r\n",
        "the mean and then scaling to unit variance. Unit variance means dividing all the values by the standard deviation.'''\r\n",
        "\r\n",
        "    sc = StandardScaler()\r\n",
        "    data = sc.fit_transform(data)\r\n",
        "\r\n",
        "    return data         #Returning the processed data"
      ],
      "execution_count": 16,
      "outputs": []
    },
    {
      "cell_type": "markdown",
      "metadata": {
        "id": "HBPCz6LVvc6p"
      },
      "source": [
        "# **PART 2: NEURAL NETWORK MODEL**\r\n",
        "\r\n",
        "\r\n",
        "\r\n"
      ]
    },
    {
      "cell_type": "code",
      "metadata": {
        "id": "BMbhdvIgYAmd"
      },
      "source": [
        "import keras\r\n",
        "from keras import Sequential\r\n",
        "from keras.layers import Dense\r\n",
        "import numpy as np\r\n",
        "import pandas as pd\r\n",
        "from sklearn.preprocessing import StandardScaler\r\n",
        "from sklearn.model_selection import train_test_split\r\n",
        "from keras.layers import Dropout\r\n",
        "from keras.regularizers import l1\r\n",
        "from sklearn.utils import class_weight\r\n",
        "from keras.callbacks import EarlyStopping\r\n",
        "from matplotlib import pyplot as plt"
      ],
      "execution_count": 3,
      "outputs": []
    },
    {
      "cell_type": "markdown",
      "metadata": {
        "id": "iFsYRv-u0raR"
      },
      "source": [
        "####Reading the final data(after imputation) for training the model."
      ]
    },
    {
      "cell_type": "code",
      "metadata": {
        "id": "oD4auSlIvigr"
      },
      "source": [
        "# Reading the data back(which was saved earlier during imputation)\r\n",
        "X = pd.read_csv(\"drive/My Drive/MS4610 Data/TRAINX_FINAL.csv\")\r\n",
        "Y = pd.read_csv(\"drive/My Drive/MS4610 Data/TRAINY_FINAL.csv\")"
      ],
      "execution_count": 5,
      "outputs": []
    },
    {
      "cell_type": "markdown",
      "metadata": {
        "id": "pj6s6JJvvuC8"
      },
      "source": [
        "The below line splits the training data into 2 parts, one for training, and one for testing and evaluating the model"
      ]
    },
    {
      "cell_type": "code",
      "metadata": {
        "id": "NiRVQ1iok4P3"
      },
      "source": [
        "X_train, X_test, Y_train, Y_test = train_test_split(X, Y, test_size = 0.25, random_state = 0)"
      ],
      "execution_count": 6,
      "outputs": []
    },
    {
      "cell_type": "markdown",
      "metadata": {
        "id": "prxrWYqJ7hh2"
      },
      "source": [
        "###MODEL DEFINITION AND TRAINING\r\n",
        "\r\n",
        "\r\n",
        "> In the below cell we first define the model. We are making a Sequential Neural Network, with 3 hidden layers. All the hidden layers use the ReLu(rectified linear unit) activation function. The output layer used the Sigmoid Activation function. All the layers are dense. Dense layer is the regular deeply connected neural network layer.\r\n",
        "\r\n",
        "![2021-01-06 (2).png](data:image/png;base64,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)"
      ]
    },
    {
      "cell_type": "code",
      "metadata": {
        "id": "6b8XKiBSYOSo"
      },
      "source": [
        "#Defining the model to be a Sequential Neural Network, by running the Sequential() constructor\r\n",
        "model = Sequential()  \r\n",
        "#Adding the first hidden layer with 50 neurons, with activation function to be \"relu\" and a l1 regularization factor of 0.005\r\n",
        "model.add(Dense(50, kernel_initializer = 'uniform',input_dim=13, activation='relu',activity_regularizer=l1(0.001)))\r\n",
        "\r\n",
        "#Adding the second hidden layer with 20 neurons, with activation function to be \"relu\" \r\n",
        "model.add(Dense(20, kernel_initializer = 'uniform',activation='relu'))\r\n",
        "\r\n",
        "#Adding a dropout layer for regularization\r\n",
        "model.add(Dropout(0.1))\r\n",
        "\r\n",
        "#Adding the third hidden layer with 8 neurons, with activation function to be \"relu\"\r\n",
        "model.add(Dense(8, kernel_initializer = 'uniform',activation='relu'))\r\n",
        "\r\n",
        "#Adding the final output layer(1 neuron) with activation function to be \"sigmoid\"\r\n",
        "model.add(Dense(1, kernel_initializer = 'uniform',activation='sigmoid'))\r\n",
        "\r\n",
        "#Compiling the model, with the optimizer set to 'adam' and loss function set to 'binary_crossentropy'\r\n",
        "model.compile(optimizer=\"adam\", loss='binary_crossentropy', metrics=['accuracy'])\r\n",
        "\r\n",
        "#Defining the class weights based on the ratio of 0's and 1's in the training data\r\n",
        "class_weight = {0: 0.64, 1: 7.66}\r\n",
        "\r\n",
        "#Defining the callback for Early Stopping based on how the validation accuracy is changing, and stopping the training when maxima has been reached.\r\n",
        "es = EarlyStopping(monitor='val_accuracy', mode='max',patience=5, restore_best_weights = True) \r\n",
        "\r\n",
        "#Fitting the defined model on the Training data\r\n",
        "history = model.fit(X_train, Y_train, batch_size=10, epochs=25, validation_split=0.1, class_weight=class_weight, callbacks=[es])\r\n"
      ],
      "execution_count": null,
      "outputs": []
    },
    {
      "cell_type": "markdown",
      "metadata": {
        "id": "ANoRMyKSAhbr"
      },
      "source": [
        "###MODEL EVALUATION\r\n",
        "The below code uses the trained model to predict the labels for X_test, the 25% of the data that we had taken from the whole training data set, for model evaluation. We then compare the predicted y with the actual labels(Y_test) to find the accuracy."
      ]
    },
    {
      "cell_type": "code",
      "metadata": {
        "id": "DwrhUekOZsWp"
      },
      "source": [
        "from sklearn.metrics import accuracy_score\r\n",
        "#Predicting the y values for the test part of the data set(X_test, the 25% of the data that we had taken from the whole training data set, for model evaluation)\r\n",
        "y_pred = model.predict(X_test)\r\n",
        "#Assigning the y value as 1 if the predicted value is > 0.5, and 0 otherwise\r\n",
        "y_pred = (y_pred > 0.5)\r\n",
        "#Finding and printing the accuracy score\r\n",
        "print(accuracy_score(Y_test, y_pred))\r\n",
        "np.savetxt(\"drive/My Drive/MS4610 Data/ypred.csv\", y_pred, delimiter=\",\")\r\n",
        "np.savetxt(\"drive/My Drive/MS4610 Data/ytest.csv\", Y_test, delimiter=\",\")\r\n"
      ],
      "execution_count": null,
      "outputs": []
    },
    {
      "cell_type": "markdown",
      "metadata": {
        "id": "5MsCkIPPJNLB"
      },
      "source": [
        "###PREDICTION FOR TEST DATA"
      ]
    },
    {
      "cell_type": "code",
      "metadata": {
        "id": "iMn4az6bivm5"
      },
      "source": [
        "test_x = pd.read_csv(\"drive/My Drive/MS4610 Data/test_x.csv\")\r\n",
        "test_x = np.array(test_x)\r\n",
        "# Preprocessing the data for making it compatible with the model\r\n",
        "test_x_prs = preprocessor(test_x)\r\n",
        "\r\n",
        "#Predicting the y values for the test dataset given to predict\r\n",
        "y_test_pred = model.predict(test_x_prs)\r\n",
        "r = len(y_test_pred)\r\n",
        "#Assigning the y value as 1 if the predicted value is > 0.5, and 0 otherwise\r\n",
        "y_test_pred = (y_test_pred > 0.5)\r\n",
        "y_test_pred = y_test_pred.reshape((r,1))\r\n",
        "final = np.zeros((r,2))\r\n",
        "final[:,0] = test_x[:,0]\r\n",
        "final[:,1] = y_test_pred[:,0]\r\n",
        "df = pandas.DataFrame(final)\r\n",
        "df.columns = [\"ID\",\"Labels\"]\r\n",
        "df.to_csv(\"drive/My Drive/MS4610 Data/pred_y.csv\",index=False)\r\n"
      ],
      "execution_count": 190,
      "outputs": []
    },
    {
      "cell_type": "markdown",
      "metadata": {
        "id": "vplYo_7SBSRq"
      },
      "source": [
        "###PLOTTING\r\n",
        "The below 2 cell are used to plot the accuracies and losses against the number of epochs."
      ]
    },
    {
      "cell_type": "code",
      "metadata": {
        "id": "dLj5Hcgk2mt9"
      },
      "source": [
        " #Taking the array of accuracies, from the history of training of the model and plotting it against the number of epochs\r\n",
        "plt.plot(history.history['accuracy'])  \r\n",
        "#Taking the array of validation accuracies, from the history of training of the model and plotting it against the number of epochs\r\n",
        "plt.plot(history.history['val_accuracy']) \r\n",
        "\r\n",
        "plt.title('model accuracy')\r\n",
        "\r\n",
        "plt.ylabel('accuracy')\r\n",
        "plt.xlabel('epoch')\r\n",
        "plt.legend(['training', 'validation'], loc='best')\r\n",
        "plt.savefig(\"drive/My Drive/MS4610 Data/accplot(.JPG\")\r\n",
        "plt.show()"
      ],
      "execution_count": null,
      "outputs": []
    },
    {
      "cell_type": "code",
      "metadata": {
        "id": "9gya1qqgCtmJ"
      },
      "source": [
        "#Taking the array of losses, from the history of training of the model and plotting it against the number of epochs\r\n",
        "plt.plot(history.history['loss'])    \r\n",
        "#Taking the array of validation losses, from the history of training of the model and plotting it against the number of epochs\r\n",
        "plt.plot(history.history['val_loss']) \r\n",
        "\r\n",
        "plt.title('loss')\r\n",
        "plt.ylabel('loss')\r\n",
        "plt.xlabel('epoch')\r\n",
        "plt.legend(['training', 'validation'], loc='best')\r\n",
        "plt.savefig(\"drive/My Drive/MS4610 Data/lossplot(98.44)).JPG\")\r\n",
        "plt.show()"
      ],
      "execution_count": null,
      "outputs": []
    }
  ]
}